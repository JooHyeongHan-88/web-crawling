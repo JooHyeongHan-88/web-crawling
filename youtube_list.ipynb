{
  "cells": [
    {
      "cell_type": "code",
      "execution_count": 1,
      "metadata": {
        "id": "lQ2LznPmHpuT"
      },
      "outputs": [],
      "source": [
        "import os\n",
        "import selenium\n",
        "from selenium import webdriver\n",
        "from selenium.webdriver.common.by import By\n",
        "from selenium.webdriver.support.ui import WebDriverWait\n",
        "from selenium.webdriver.support import expected_conditions as EC\n",
        "from bs4 import BeautifulSoup\n",
        "import lxml\n",
        "from openpyxl import Workbook"
      ]
    },
    {
      "attachments": {},
      "cell_type": "markdown",
      "metadata": {
        "id": "WLSg130vKBA-"
      },
      "source": [
        "# Final Project\n",
        "\n",
        "## Youtube의 직접 만든 playlist 링크를 활용하여 영상 목록과 자세한 영상 정보(영상 제목, 좋아요 수, 크리에이터 이름, 구독자 수, 조회수)를 수집하여 엑셀 시트에 저장하세요. \n",
        "\n",
        "1.  Selenium Webdriver를 시작하세요"
      ]
    },
    {
      "cell_type": "code",
      "execution_count": 2,
      "metadata": {
        "id": "RKSNmi7ruqZv"
      },
      "outputs": [
        {
          "name": "stderr",
          "output_type": "stream",
          "text": [
            "C:\\Users\\user\\AppData\\Local\\Temp\\ipykernel_3776\\4132983183.py:3: DeprecationWarning: executable_path has been deprecated, please pass in a Service object\n",
            "  eg_driver = webdriver.Edge(DRIVER_PATH)\n"
          ]
        }
      ],
      "source": [
        "DRIVER_PATH = os.getcwd() + \"\\\\msedgedriver.exe\"\n",
        "\n",
        "eg_driver = webdriver.Edge(DRIVER_PATH)"
      ]
    },
    {
      "cell_type": "markdown",
      "metadata": {
        "id": "c5L2Ai7oumEi"
      },
      "source": [
        "2. 직접 만든 playlist의 uri를 playlist_uri에 할당하세요"
      ]
    },
    {
      "cell_type": "code",
      "execution_count": 3,
      "metadata": {
        "id": "gtdVZYjFKC7l"
      },
      "outputs": [],
      "source": [
        "playlist_uri = \"https://www.youtube.com/playlist?list=PL-Rk9-7qrgwd2thtw0ZUjB5HMKv2kz9Zb\""
      ]
    },
    {
      "cell_type": "markdown",
      "metadata": {
        "id": "o4TfZB6H7gU0"
      },
      "source": [
        "3. Webdriver로 playlist_uri에 접속하세요"
      ]
    },
    {
      "cell_type": "code",
      "execution_count": 4,
      "metadata": {
        "id": "CpnBLRFa7rot"
      },
      "outputs": [],
      "source": [
        "eg_driver.get(playlist_uri)"
      ]
    },
    {
      "cell_type": "markdown",
      "metadata": {
        "id": "yqWKms4-7qmR"
      },
      "source": [
        "4. webdriver의 page_source를 BeautifulSoup으로 분석하여 목록의 제목과 링크를 구하세요 "
      ]
    },
    {
      "cell_type": "code",
      "execution_count": 5,
      "metadata": {
        "id": "4jSYIx2A7gl5"
      },
      "outputs": [
        {
          "name": "stdout",
          "output_type": "stream",
          "text": [
            "chatGPT는 엄준식 프로그래밍 언어도 잘할까: https://www.youtube.com/watch?v=SdDs0ScOFSU&list=PL-Rk9-7qrgwd2thtw0ZUjB5HMKv2kz9Zb&index=1\n",
            "미친 파이썬 프레임워크가 나타났다.: https://www.youtube.com/watch?v=47BL6WLZJ1g&list=PL-Rk9-7qrgwd2thtw0ZUjB5HMKv2kz9Zb&index=2\n",
            "코딩 빠르게 하는 꿀팁 및 설정 🍯 (자동 완성 기능): https://www.youtube.com/watch?v=umeqCopb96w&list=PL-Rk9-7qrgwd2thtw0ZUjB5HMKv2kz9Zb&index=3\n",
            "위기: https://www.youtube.com/watch?v=DEZltZdk-o0&list=PL-Rk9-7qrgwd2thtw0ZUjB5HMKv2kz9Zb&index=4\n",
            "한국에 집을 사는 대신, 뉴욕에서 월세살이를 시작한 부부 ep.1: https://www.youtube.com/watch?v=aX_Oan6KkFw&list=PL-Rk9-7qrgwd2thtw0ZUjB5HMKv2kz9Zb&index=5\n"
          ]
        }
      ],
      "source": [
        "BASE_URL = \"https://www.youtube.com\"\n",
        "SEL_CONTENT = \"#meta > h3 a\"\n",
        "\n",
        "soup = BeautifulSoup(eg_driver.page_source, 'lxml')\n",
        "\n",
        "e_content = soup.select(SEL_CONTENT)\n",
        "\n",
        "playlist_titles = [c.text.strip(\"\\n \") for c in e_content[:-1]]\n",
        "playlist_links = [BASE_URL + c['href'] for c in e_content[:-1]]\n",
        "\n",
        "for t, l in zip(playlist_titles, playlist_links):\n",
        "    print(\"{}: {}\".format(t, l))"
      ]
    },
    {
      "cell_type": "markdown",
      "metadata": {
        "id": "4Wh4rE2g78JK"
      },
      "source": [
        "5. 첫번째 링크로 영상의 페이지로 이동하세요"
      ]
    },
    {
      "cell_type": "code",
      "execution_count": 6,
      "metadata": {
        "id": "wV9FN-IO78et"
      },
      "outputs": [],
      "source": [
        "eg_driver.get(playlist_links[0])"
      ]
    },
    {
      "attachments": {},
      "cell_type": "markdown",
      "metadata": {
        "id": "SOJs_3K38R33"
      },
      "source": [
        "6. 해당 페이지의 page_source를 BeautifulSoup으로 분석하여 영상 제목, 좋아요 수, 크리에이터 이름, 구독자 수, 조회수를 수집하세요"
      ]
    },
    {
      "cell_type": "code",
      "execution_count": 7,
      "metadata": {
        "id": "H9bBdNCv8ZGa"
      },
      "outputs": [
        {
          "name": "stdout",
          "output_type": "stream",
          "text": [
            "title: chatGPT는 엄준식 프로그래밍 언어도 잘할까,\n",
            "name: 코딩애플,\n",
            "sub_count: 135000,\n",
            "likes: 2400,\n",
            "views: 59000\n",
            "\n"
          ]
        }
      ],
      "source": [
        "def get_video_info(agent, video_uri = None, wait_time = 10):\n",
        "\n",
        "    PATH_TITLE = \"#title > h1\"\n",
        "    PATH_CREATOR = \"#text > a\"\n",
        "    PATH_SUB_COUNT = \"#owner-sub-count\"\n",
        "    PATH_LIKE = \"#segmented-like-button > ytd-toggle-button-renderer > yt-button-shape > button > div.cbox.yt-spec-button-shape-next--button-text-content > span\"\n",
        "    PATH_VIEW = \"#info > span:nth-child(1)\"\n",
        "\n",
        "    def _stat_exchanger(c_unit: str) -> int:\n",
        "        ABBR = {\"k\": 3, \"m\": 6, \"b\": 9, \"t\": 12, '천': 3, \"만\": 4, \"억\": 8, \"조\": 12}\n",
        "\n",
        "        if c_unit.isnumeric():\n",
        "            return int(c_unit)\n",
        "        elif c_unit[-1].lower() in ABBR.keys():\n",
        "            return int(float(c_unit[:-1]) * (10 ** ABBR[c_unit[-1].lower()]))\n",
        "        else:\n",
        "            return \"Unit not found\"\n",
        "\n",
        "    if video_uri is not None:\n",
        "        eg_driver.get(video_uri)   \n",
        "        \n",
        "    wait = WebDriverWait(agent, wait_time)\n",
        "\n",
        "    video_title = wait.until(EC.presence_of_element_located((By.CSS_SELECTOR, PATH_TITLE))).text\n",
        "    \n",
        "    creator_name = wait.until(EC.presence_of_element_located((By.CSS_SELECTOR, PATH_CREATOR))).text\n",
        "    \n",
        "    sub_count = wait.until(EC.presence_of_element_located((By.CSS_SELECTOR, PATH_SUB_COUNT))).text\n",
        "    sub_count = sub_count.strip(\"구독자 명\")\n",
        "    sub_count = _stat_exchanger(sub_count)\n",
        "    \n",
        "    likes = wait.until(EC.presence_of_element_located((By.CSS_SELECTOR, PATH_LIKE))).text\n",
        "    likes = _stat_exchanger(likes)\n",
        "\n",
        "    views = wait.until(EC.presence_of_element_located((By.CSS_SELECTOR, PATH_VIEW))).text\n",
        "    views = views.strip(\"조회수 회\")\n",
        "    views = _stat_exchanger(views)\n",
        "\n",
        "    return video_title, creator_name, sub_count, likes, views\n",
        "\n",
        "video_title, creator_name, sub_count, likes, views = get_video_info(eg_driver)\n",
        "\n",
        "print(\"title: {},\\nname: {},\\nsub_count: {},\\nlikes: {},\\nviews: {}\\n\".format(video_title, creator_name, sub_count, likes, views))"
      ]
    },
    {
      "cell_type": "markdown",
      "metadata": {
        "id": "nHQN5F3e8akP"
      },
      "source": [
        "7. 5,6번의 수행과정을 모든 링크에 대해 반복수행하세요"
      ]
    },
    {
      "cell_type": "code",
      "execution_count": 8,
      "metadata": {
        "id": "GMirJWQj8j63"
      },
      "outputs": [
        {
          "name": "stdout",
          "output_type": "stream",
          "text": [
            "title: chatGPT는 엄준식 프로그래밍 언어도 잘할까,\n",
            "name: 코딩애플,\n",
            "sub_count: 135000,\n",
            "likes: 2400,\n",
            "views: 59000\n",
            "\n",
            "title: 미친 파이썬 프레임워크가 나타났다.,\n",
            "name: 노마드 코더 Nomad Coders,\n",
            "sub_count: 452000,\n",
            "likes: 2600,\n",
            "views: 120000\n",
            "\n",
            "title: 코딩 빠르게 하는 꿀팁 및 설정 🍯 (자동 완성 기능),\n",
            "name: 드림코딩,\n",
            "sub_count: 161000,\n",
            "likes: 687,\n",
            "views: 18000\n",
            "\n",
            "title: 위기,\n",
            "name: 수빙수tv sooBingsoo,\n",
            "sub_count: 1190000,\n",
            "likes: 4100,\n",
            "views: 270000\n",
            "\n",
            "title: 한국에 집을 사는 대신, 뉴욕에서 월세살이를 시작한 부부 ep.1,\n",
            "name: 유랑쓰 YOURANGSS,\n",
            "sub_count: 123000,\n",
            "likes: 6600,\n",
            "views: 300000\n",
            "\n"
          ]
        }
      ],
      "source": [
        "video_title = []\n",
        "creator_name = []\n",
        "sub_count = []\n",
        "likes = []\n",
        "views = []\n",
        "\n",
        "for uri in playlist_links:\n",
        "    t, n, s, l, v = get_video_info(eg_driver, video_uri = uri, wait_time = 10)\n",
        "\n",
        "    video_title.append(t)\n",
        "    creator_name.append(n)\n",
        "    sub_count.append(s)\n",
        "    likes.append(l)\n",
        "    views.append(v)\n",
        "\n",
        "    print(\"title: {},\\nname: {},\\nsub_count: {},\\nlikes: {},\\nviews: {}\\n\".format(t, n, s, l, v))"
      ]
    },
    {
      "cell_type": "markdown",
      "metadata": {
        "id": "4CtkS-bH8kof"
      },
      "source": [
        "8. 수집한 데이터를 엑셀 시트에 저장하세요."
      ]
    },
    {
      "cell_type": "code",
      "execution_count": 9,
      "metadata": {
        "id": "WOw6w6rK8uTB"
      },
      "outputs": [],
      "source": [
        "FILENAME = \"result.xlsx\"\n",
        "\n",
        "wb = Workbook()\n",
        "ws = wb.active\n",
        "\n",
        "column_names = ['Title', 'URL', 'Creator Name', 'Subscribers', 'Likes', 'Vies']\n",
        "\n",
        "for j, col in enumerate(column_names):\n",
        "    ws.cell(row = 1, column = j + 1, value = col)\n",
        "\n",
        "for i in range(len(playlist_links)):\n",
        "    ws.cell(row = 2 + i, column = 1, value = video_title[i])\n",
        "    ws.cell(row = 2 + i, column = 2, value = playlist_links[i])\n",
        "    ws.cell(row = 2 + i, column = 3, value = creator_name[i])\n",
        "    ws.cell(row = 2 + i, column = 4, value = sub_count[i])\n",
        "    ws.cell(row = 2 + i, column = 5, value = likes[i])\n",
        "    ws.cell(row = 2 + i, column = 6, value = views[i])\n",
        "\n",
        "wb.save('./' + FILENAME)\n",
        "wb.close()"
      ]
    },
    {
      "cell_type": "code",
      "execution_count": 10,
      "metadata": {},
      "outputs": [],
      "source": [
        "eg_driver.close()"
      ]
    },
    {
      "attachments": {},
      "cell_type": "markdown",
      "metadata": {},
      "source": [
        "# ----- 종합 (객체지향) -----"
      ]
    },
    {
      "cell_type": "code",
      "execution_count": 26,
      "metadata": {},
      "outputs": [],
      "source": [
        "import os\n",
        "import selenium\n",
        "from selenium import webdriver\n",
        "from selenium.webdriver.common.by import By\n",
        "from selenium.webdriver.support.ui import WebDriverWait\n",
        "from selenium.webdriver.support import expected_conditions as EC\n",
        "from bs4 import BeautifulSoup\n",
        "import lxml\n",
        "from openpyxl import Workbook\n",
        "\n",
        "\n",
        "class YoutubePlaylist(webdriver.Edge):\n",
        "    \n",
        "    URI_BASE = 'https://www.youtube.com'\n",
        "    URI_PLAYLIST = URI_BASE + \"/playlist?list=PL-Rk9-7qrgwd2thtw0ZUjB5HMKv2kz9Zb\"\n",
        "    \n",
        "    def __init__(self):\n",
        "        super().__init__(os.getcwd() + \"\\\\msedgedriver.exe\")\n",
        "        super().get(self.URI_PLAYLIST)\n",
        "\n",
        "        self.titles = None\n",
        "        self.urls = None\n",
        "        self.creators = []\n",
        "        self.subscribers = []\n",
        "        self.likes = []\n",
        "        self.views = []\n",
        "\n",
        "    def _stat_exchanger(self, c_unit: str) -> int:\n",
        "        ABBR = {\"k\": 3, \"m\": 6, \"b\": 9, \"t\": 12, '천': 3, \"만\": 4, \"억\": 8, \"조\": 12}\n",
        "\n",
        "        if c_unit.isnumeric():\n",
        "            return int(c_unit)\n",
        "        elif c_unit[-1].lower() in ABBR.keys():\n",
        "            return int(float(c_unit[:-1]) * (10 ** ABBR[c_unit[-1].lower()]))\n",
        "        else:\n",
        "            return \"Unit not found\"\n",
        "\n",
        "    def get_result(self, wait_time = 10):\n",
        "\n",
        "        SEL_CONTENT = \"#meta > h3 a\"\n",
        "        PATH_TITLE = \"#title > h1\"\n",
        "        PATH_CREATOR = \"#text > a\"\n",
        "        PATH_SUB_COUNT = \"#owner-sub-count\"\n",
        "        PATH_LIKE = \"#segmented-like-button > ytd-toggle-button-renderer > yt-button-shape > button > div.cbox.yt-spec-button-shape-next--button-text-content > span\"\n",
        "        PATH_VIEW = \"#info > span:nth-child(1)\"\n",
        "\n",
        "        soup = BeautifulSoup(super().page_source, 'lxml')\n",
        "\n",
        "        e_content = soup.select(SEL_CONTENT)\n",
        "\n",
        "        self.titles = [c.text.strip(\"\\n \") for c in e_content[:-1]]\n",
        "        self.urls = [self.URI_BASE + c['href'] for c in e_content[:-1]]\n",
        "        \n",
        "        wait = WebDriverWait(super(), wait_time)\n",
        "\n",
        "        for url in self.urls:\n",
        "            super().get(url)  \n",
        "  \n",
        "            creators = wait.until(EC.presence_of_element_located((By.CSS_SELECTOR, PATH_CREATOR))).text\n",
        "            \n",
        "            subscribers = wait.until(EC.presence_of_element_located((By.CSS_SELECTOR, PATH_SUB_COUNT))).text\n",
        "            subscribers = subscribers.strip(\"구독자 명\")\n",
        "            subscribers = self._stat_exchanger(subscribers)\n",
        "            \n",
        "            likes = wait.until(EC.presence_of_element_located((By.CSS_SELECTOR, PATH_LIKE))).text\n",
        "            likes = self._stat_exchanger(likes)\n",
        "\n",
        "            views = wait.until(EC.presence_of_element_located((By.CSS_SELECTOR, PATH_VIEW))).text\n",
        "            views = views.strip(\"조회수 회\")\n",
        "            views = self._stat_exchanger(views)\n",
        "\n",
        "            self.creators.append(creators)\n",
        "            self.subscribers.append(subscribers)\n",
        "            self.likes.append(likes)\n",
        "            self.views.append(views)\n",
        "\n",
        "    def print_result(self):\n",
        "        if self.titles is not None:\n",
        "            for i in range(len(self.titles)):\n",
        "                print(\"title: {},\\nurl: {},\\nname: {},\\nsub_count: {},\\nlikes: {},\\nviews: {}\\n\".format(self.titles[i], self.urls[i], self.creators[i], self.subscribers[i], self.likes[i], self.views[i]))\n",
        "\n",
        "    def save_xlsx(self, filename):\n",
        "        if self.titles is not None:\n",
        "            wb = Workbook()\n",
        "            ws = wb.active\n",
        "\n",
        "            column_names = ['Title', 'URL', 'Creator Name', 'Subscribers', 'Likes', 'Vies']\n",
        "\n",
        "            for j, col in enumerate(column_names):\n",
        "                ws.cell(row = 1, column = j + 1, value = col)\n",
        "\n",
        "            for i in range(len(self.titles)):\n",
        "                ws.cell(row = 2 + i, column = 1, value = self.titles[i])\n",
        "                ws.cell(row = 2 + i, column = 2, value = self.urls[i])\n",
        "                ws.cell(row = 2 + i, column = 3, value = self.creators[i])\n",
        "                ws.cell(row = 2 + i, column = 4, value = self.subscribers[i])\n",
        "                ws.cell(row = 2 + i, column = 5, value = self.likes[i])\n",
        "                ws.cell(row = 2 + i, column = 6, value = self.views[i])\n",
        "\n",
        "            wb.save('./' + filename)\n",
        "            wb.close()"
      ]
    },
    {
      "cell_type": "code",
      "execution_count": 27,
      "metadata": {},
      "outputs": [
        {
          "name": "stderr",
          "output_type": "stream",
          "text": [
            "C:\\Users\\user\\AppData\\Local\\Temp\\ipykernel_3776\\758002284.py:18: DeprecationWarning: executable_path has been deprecated, please pass in a Service object\n",
            "  super().__init__(os.getcwd() + \"\\\\msedgedriver.exe\")\n"
          ]
        }
      ],
      "source": [
        "yt_agent = YoutubePlaylist()"
      ]
    },
    {
      "cell_type": "code",
      "execution_count": 28,
      "metadata": {},
      "outputs": [],
      "source": [
        "yt_agent.get_result()\n",
        "yt_agent.close()"
      ]
    },
    {
      "cell_type": "code",
      "execution_count": 29,
      "metadata": {},
      "outputs": [
        {
          "name": "stdout",
          "output_type": "stream",
          "text": [
            "title: chatGPT는 엄준식 프로그래밍 언어도 잘할까,\n",
            "url: https://www.youtube.com/watch?v=SdDs0ScOFSU&list=PL-Rk9-7qrgwd2thtw0ZUjB5HMKv2kz9Zb&index=1,\n",
            "name: 코딩애플,\n",
            "sub_count: 135000,\n",
            "likes: 2400,\n",
            "views: 60000\n",
            "\n",
            "title: 미친 파이썬 프레임워크가 나타났다.,\n",
            "url: https://www.youtube.com/watch?v=47BL6WLZJ1g&list=PL-Rk9-7qrgwd2thtw0ZUjB5HMKv2kz9Zb&index=2,\n",
            "name: 노마드 코더 Nomad Coders,\n",
            "sub_count: 452000,\n",
            "likes: 2600,\n",
            "views: 120000\n",
            "\n",
            "title: 코딩 빠르게 하는 꿀팁 및 설정 🍯 (자동 완성 기능),\n",
            "url: https://www.youtube.com/watch?v=umeqCopb96w&list=PL-Rk9-7qrgwd2thtw0ZUjB5HMKv2kz9Zb&index=3,\n",
            "name: 드림코딩,\n",
            "sub_count: 161000,\n",
            "likes: 687,\n",
            "views: 18000\n",
            "\n",
            "title: 위기,\n",
            "url: https://www.youtube.com/watch?v=DEZltZdk-o0&list=PL-Rk9-7qrgwd2thtw0ZUjB5HMKv2kz9Zb&index=4,\n",
            "name: 수빙수tv sooBingsoo,\n",
            "sub_count: 1190000,\n",
            "likes: 4100,\n",
            "views: 270000\n",
            "\n",
            "title: 한국에 집을 사는 대신, 뉴욕에서 월세살이를 시작한 부부 ep.1,\n",
            "url: https://www.youtube.com/watch?v=aX_Oan6KkFw&list=PL-Rk9-7qrgwd2thtw0ZUjB5HMKv2kz9Zb&index=5,\n",
            "name: 유랑쓰 YOURANGSS,\n",
            "sub_count: 123000,\n",
            "likes: 6600,\n",
            "views: 300000\n",
            "\n"
          ]
        }
      ],
      "source": [
        "yt_agent.print_result()"
      ]
    },
    {
      "cell_type": "code",
      "execution_count": 30,
      "metadata": {},
      "outputs": [],
      "source": [
        "yt_agent.save_xlsx(\"result_oop.xlsx\")"
      ]
    }
  ],
  "metadata": {
    "colab": {
      "provenance": []
    },
    "kernelspec": {
      "display_name": "base",
      "language": "python",
      "name": "python3"
    },
    "language_info": {
      "codemirror_mode": {
        "name": "ipython",
        "version": 3
      },
      "file_extension": ".py",
      "mimetype": "text/x-python",
      "name": "python",
      "nbconvert_exporter": "python",
      "pygments_lexer": "ipython3",
      "version": "3.9.13"
    },
    "vscode": {
      "interpreter": {
        "hash": "a077222d77dfe082b8f1dd562ad70e458ac2ab76993a0b248ab0476e32e9e8dd"
      }
    }
  },
  "nbformat": 4,
  "nbformat_minor": 0
}
